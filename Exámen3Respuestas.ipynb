{
 "cells": [
  {
   "cell_type": "code",
   "execution_count": 15,
   "metadata": {},
   "outputs": [],
   "source": [
    "class Vertice:\n",
    "    def __init__(self, val):\n",
    "        self.history = []\n",
    "        self.value = val\n",
    "        self.adjacent = []\n",
    "        self.prev = None\n",
    "    def addAdjacent(self, adj, weight):\n",
    "        self.adjacent.append((adj, weight))\n",
    "class Graph:\n",
    "    def __init__(self):\n",
    "        self.vertices = {}\n",
    "        self.entering = {}\n",
    "    def addEdge(self, u, v, weight):\n",
    "        if u not in self.vertices:\n",
    "            self.vertices[u] = Vertice(u)\n",
    "        if v not in self.vertices:\n",
    "            self.vertices[v] = Vertice(v)\n",
    "        if v not in self.entering:\n",
    "            self.entering[v] = 0\n",
    "        self.vertices[u].addAdjacent(self.vertices[v], weight)\n",
    "        self.entering[v] += 1\n",
    "    def printEdges(self):\n",
    "        for vertex in self.vertices:\n",
    "            neighbors = self.vertices[vertex].adjacent\n",
    "            for (neighbor, w) in neighbors:\n",
    "                print(\"FROM \", self.vertices[vertex].value, \" to \", neighbor.value, \" weight \", w)\n",
    "class Node:\n",
    "    def __init__(self, val):\n",
    "        self.value = val\n",
    "        self.adjacent = []\n",
    "        self.explored = False\n",
    "    def add_adjacent(self, node):\n",
    "        self.adjacent.append(node)\n",
    "class Directedgraph:\n",
    "    def __init__(self):\n",
    "        self.vertices = {}\n",
    "    def add_edge(self, u, v):\n",
    "        if u not in self.vertices:\n",
    "            self.vertices[u] = Node(u)\n",
    "        if v not in self.vertices:\n",
    "            self.vertices[v] = Node(v)\n",
    "        self.vertices[u].add_adjacent(self.vertices[v])\n",
    "    def get_edges(self):\n",
    "        for vertice in self.vertices.keys():\n",
    "            for adjacent in self.vertices[vertice].adjacent:\n",
    "                print(\"[\",vertice,\"] val=\", self.vertices[vertice].value, \" => \", adjacent.value)\n",
    "    def generate_time_ordered_vertices(self):\n",
    "        self.time_vertices = {}"
   ]
  },
  {
   "cell_type": "code",
   "execution_count": 16,
   "metadata": {},
   "outputs": [],
   "source": [
    "import numpy as np\n",
    "M = np.matrix([[0,0,0,0,0,8,0,0,0,0,0,0,0,0,0,0,0,0],\n",
    "              [7,0,3,0,0,0,0,0,0,0,0,0,0,0,0,0,0,0],\n",
    "              [0,0,0,2,0,0,0,0,0,0,0,0,0,0,0,0,0,0],\n",
    "              [0,0,0,0,-1,0,3,0,0,0,0,3,0,0,0,0,0,0],\n",
    "              [0,0,0,0,0,4,0,0,0,0,0,0,0,0,0,0,0,0],\n",
    "              [0,0,0,0,0,0,0,0,0,0,0,0,0,0,0,0,0,0],\n",
    "              [0,0,0,0,0,0,0,-4,0,1,0,0,0,0,0,0,0,0],\n",
    "              [0,0,0,0,0,5,0,0,0,3,1,0,0,0,0,0,0,0],\n",
    "              [0,0,0,-1,0,0,0,0,0,0,0,0,0,0,0,0,0,0],\n",
    "              [0,0,0,0,0,0,0,0,-2,0,0,0,0,0,0,0,0,0],\n",
    "              [0,0,0,0,0,0,0,0,0,2,0,0,0,0,0,0,0,0],\n",
    "              [0,0,0,0,0,0,0,0,0,0,0,0,-1,0,0,0,0,0],\n",
    "              [0,0,0,0,0,-4,0,0,0,0,0,0,0,0,0,0,0,0],\n",
    "              [0,0,0,0,0,0,0,0,0,0,0,0,0,0,0,0,0,0],\n",
    "              [0,0,0,0,0,0,0,0,0,0,0,0,0,0,0,-1,0,1],\n",
    "              [0,0,0,0,0,0,0,0,0,0,0,0,0,0,0,0,3,1],\n",
    "              [0,0,0,0,0,0,0,0,0,0,0,0,0,0,-4,0,0,1],\n",
    "              [0,0,0,0,0,0,0,0,0,0,0,0,0,0,0,0,0,0],\n",
    "              ])\n",
    "def countCycles(start, isPositive):\n",
    "    visited = set()\n",
    "    work = []\n",
    "    numLoops = 0\n",
    "    work.append(start)\n",
    "    sumCycle = 0\n",
    "    all_cicles = []\n",
    "    curr_cicle = []\n",
    "    unconected = set()\n",
    "    curr_cicle.append(start.value)\n",
    "    while len(work):\n",
    "        current = work.pop()\n",
    "        visited.add(current)\n",
    "        neighbors = current.adjacent\n",
    "        if len(neighbors) == 0:\n",
    "            unconected.add(current)\n",
    "            continue\n",
    "        for (neighbor, w) in neighbors:\n",
    "            if neighbor in unconected:\n",
    "                continue\n",
    "            if neighbor not in visited:\n",
    "                if neighbor not in work:\n",
    "                    neighbor.prev = (current, w)\n",
    "                    work.append(neighbor)\n",
    "            else:\n",
    "                curr_cicle = [current.value]\n",
    "                (tmp, weight) = current.prev\n",
    "                sumCycle += weight + w\n",
    "                unconected.add(tmp)\n",
    "                while tmp.value != neighbor.value:\n",
    "                    curr_cicle.append(tmp.value)\n",
    "                    (tmp, weight) = tmp.prev\n",
    "                    sumCycle += weight\n",
    "                    unconected.add(tmp)\n",
    "                curr_cicle.append(tmp.value)\n",
    "                if isPositive:\n",
    "                    if (sumCycle >= 0):\n",
    "                        all_cicles.append(curr_cicle)\n",
    "                else:\n",
    "                    if (sumCycle < 0):\n",
    "                        all_cicles.append(curr_cicle)\n",
    "                numLoops += 1\n",
    "                sumCycle = 0\n",
    "                curr_cicle = []\n",
    "    return (numLoops, all_cicles)\n",
    "def positiveCycles(g):\n",
    "    numCycles = 0\n",
    "    loops = []\n",
    "    for vertex in g.vertices:\n",
    "        res = countCycles(g.vertices[vertex], True)\n",
    "        numCycles += res[0]\n",
    "        for x in res[1]:\n",
    "            loops.append(x)\n",
    "    loops.sort()\n",
    "    for mini in loops:\n",
    "        mini.sort()\n",
    "    res = []\n",
    "    numCycles = 0\n",
    "    for loop in loops:\n",
    "        if loop not in res:\n",
    "            res.append(loop)\n",
    "            numCycles += 1\n",
    "    return (numCycles, res)\n",
    "def negativeCycles(g):\n",
    "    numCycles = 0\n",
    "    loops = []\n",
    "    for vertex in g.vertices:\n",
    "        res = countCycles(g.vertices[vertex], False)\n",
    "        numCycles += res[0]\n",
    "        for x in res[1]:\n",
    "            loops.append(x)\n",
    "    loops.sort()\n",
    "    for mini in loops:\n",
    "        mini.sort()\n",
    "    res = []\n",
    "    numCycles = 0\n",
    "    for loop in loops:\n",
    "        if loop not in res:\n",
    "            res.append(loop)\n",
    "            numCycles += 1\n",
    "    return (numCycles, res)"
   ]
  },
  {
   "cell_type": "code",
   "execution_count": 17,
   "metadata": {},
   "outputs": [],
   "source": [
    "# Change graph representation to an adjacency list\n",
    "g = Graph()\n",
    "for i in range(M.shape[0]):\n",
    "    for j in range(M.shape[1]):\n",
    "        w = M.item(i,j)\n",
    "        if w != 0:\n",
    "            g.addEdge(i+1, j+1, w)"
   ]
  },
  {
   "cell_type": "markdown",
   "metadata": {},
   "source": [
    "# Positive Cycles"
   ]
  },
  {
   "cell_type": "code",
   "execution_count": 18,
   "metadata": {},
   "outputs": [
    {
     "name": "stdout",
     "output_type": "stream",
     "text": [
      "1 [[4, 7, 9, 10]]\n"
     ]
    }
   ],
   "source": [
    "# Positive Cycles\n",
    "(num_pos_loops, loops) = positiveCycles(g)\n",
    "print(num_pos_loops, loops)"
   ]
  },
  {
   "cell_type": "markdown",
   "metadata": {},
   "source": [
    "# Negative Cycles"
   ]
  },
  {
   "cell_type": "code",
   "execution_count": 19,
   "metadata": {},
   "outputs": [
    {
     "name": "stdout",
     "output_type": "stream",
     "text": [
      "3 [[4, 7, 8, 9, 10], [4, 7, 8, 9, 10, 11], [15, 16, 17]]\n"
     ]
    }
   ],
   "source": [
    "# Negative Cycles\n",
    "(num_pos_loops, loops) = negativeCycles(g)\n",
    "print(num_pos_loops, loops)"
   ]
  },
  {
   "cell_type": "markdown",
   "metadata": {},
   "source": [
    "# Mayor conexiones entrantes"
   ]
  },
  {
   "cell_type": "code",
   "execution_count": 20,
   "metadata": {},
   "outputs": [
    {
     "name": "stdout",
     "output_type": "stream",
     "text": [
      "Nodo con más conexiones entrantes es  6\n"
     ]
    }
   ],
   "source": [
    "maxim = -1\n",
    "better = None\n",
    "for v in g.entering:\n",
    "    if g.entering[v] > maxim:\n",
    "        maxim = g.entering[v]\n",
    "        better = v\n",
    "print(\"Nodo con más conexiones entrantes es \", better)"
   ]
  },
  {
   "cell_type": "markdown",
   "metadata": {},
   "source": [
    "# Strongly Connected Components"
   ]
  },
  {
   "cell_type": "code",
   "execution_count": 21,
   "metadata": {},
   "outputs": [
    {
     "name": "stdout",
     "output_type": "stream",
     "text": [
      "Lider componente fuertemente conectado -> numero de elementos en el cluster conectados\n",
      "6  ->  1\n",
      "5  ->  1\n",
      "1  ->  1\n",
      "13  ->  1\n",
      "12  ->  1\n",
      "4  ->  6\n",
      "9  ->  0\n",
      "10  ->  0\n",
      "11  ->  0\n",
      "8  ->  0\n",
      "7  ->  0\n",
      "3  ->  1\n",
      "2  ->  1\n",
      "14  ->  1\n",
      "18  ->  1\n",
      "17  ->  3\n",
      "16  ->  0\n",
      "15  ->  0\n"
     ]
    }
   ],
   "source": [
    "t = 0\n",
    "s = None\n",
    "leaders = {}\n",
    "reversedGraph = Directedgraph()\n",
    "normalGraph = Directedgraph()\n",
    "for i in range(M.shape[0]):\n",
    "    for j in range(M.shape[1]):\n",
    "        w = M.item(i,j)\n",
    "        if w != 0:\n",
    "            reversedGraph.add_edge(j+1, i+1)\n",
    "            normalGraph.add_edge(i+1, j+1)\n",
    "reversedGraph.add_edge(14, 14)\n",
    "normalGraph.add_edge(14,14)\n",
    "def DFS(i, pass1):\n",
    "    global t\n",
    "    global s\n",
    "    if pass1:\n",
    "        global normalGraph\n",
    "    else:\n",
    "        global leaders\n",
    "    work = []\n",
    "    visited = []\n",
    "    work.append(i)\n",
    "    while len(work) > 0:\n",
    "        current = work.pop()\n",
    "        if current.explored: continue\n",
    "        current.explored = True\n",
    "        visited.append(current)\n",
    "        if not pass1:\n",
    "            leaders[s] += 1\n",
    "        for adj in current.adjacent:\n",
    "            if not adj.explored:\n",
    "                work.append(adj)\n",
    "    if pass1:\n",
    "        while len(visited)>0:\n",
    "            t+=1\n",
    "            current = visited.pop().value\n",
    "            normalGraph.time_vertices[t] = normalGraph.vertices[current]\n",
    "def DFS_loop(G, pass1):\n",
    "    global t\n",
    "    global s\n",
    "    if pass1:\n",
    "        global normalGraph\n",
    "        normalGraph.generate_time_ordered_vertices()\n",
    "    else:\n",
    "        global leaders\n",
    "    t = 0\n",
    "    s = None\n",
    "    for i in range(len(G.vertices), 0, -1):\n",
    "        if not pass1:\n",
    "            s = i\n",
    "            leaders[i] = 0\n",
    "        DFS(G.vertices[i], pass1)\n",
    "    if pass1:\n",
    "        normalGraph.vertices = normalGraph.time_vertices.copy()\n",
    "        del normalGraph.time_vertices\n",
    "DFS_loop(reversedGraph, True)\n",
    "DFS_loop(normalGraph, False)\n",
    "print(\"Lider componente fuertemente conectado -> numero de elementos en el cluster conectados\")\n",
    "for val in leaders:\n",
    "    print(normalGraph.vertices[val].value, \" -> \", leaders[val])"
   ]
  },
  {
   "cell_type": "code",
   "execution_count": null,
   "metadata": {},
   "outputs": [],
   "source": []
  }
 ],
 "metadata": {
  "kernelspec": {
   "display_name": "Python 3",
   "language": "python",
   "name": "python3"
  },
  "language_info": {
   "codemirror_mode": {
    "name": "ipython",
    "version": 3
   },
   "file_extension": ".py",
   "mimetype": "text/x-python",
   "name": "python",
   "nbconvert_exporter": "python",
   "pygments_lexer": "ipython3",
   "version": "3.6.5"
  }
 },
 "nbformat": 4,
 "nbformat_minor": 2
}
