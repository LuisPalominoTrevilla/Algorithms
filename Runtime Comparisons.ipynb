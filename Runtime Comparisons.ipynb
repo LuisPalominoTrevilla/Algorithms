{
 "cells": [
  {
   "cell_type": "code",
   "execution_count": 5,
   "metadata": {},
   "outputs": [],
   "source": [
    "import time\n",
    "import matplotlib.pyplot as plt\n",
    "from random import randint"
   ]
  },
  {
   "cell_type": "code",
   "execution_count": 6,
   "metadata": {},
   "outputs": [],
   "source": [
    "def bubbleSort(x):\n",
    "    n = len(x)\n",
    "    for i in range(n):\n",
    "        for j in range (n-i-1):\n",
    "            if x[j] > x[j+1]:\n",
    "                x[j], x[j+1] = x[j+1], x[j]\n",
    "                \n",
    "def selectionSort(x):\n",
    "    n= len(x)\n",
    "    for i in range(n-1):\n",
    "        min = i\n",
    "        for j in range(i, n):\n",
    "            if x[j] < x[min]:\n",
    "                min = j\n",
    "        x[i], x[min] = x[min], x[i]\n",
    "\n",
    "def insertionSort(x):\n",
    "    n = len(x)\n",
    "    for i in range(n):\n",
    "        k = i\n",
    "        while k > 0 and x[k] < x[k-1]:\n",
    "            x[k], x[k-1]= x[k-1], x[k]\n",
    "            k-=1\n",
    "\n",
    "def shellSort(x, h):\n",
    "    while h>=1:\n",
    "        for i in range(h,len(x)):\n",
    "            aux = x[i]\n",
    "            j=i-h\n",
    "            while(j>=0 and aux<x[j]):\n",
    "                x[j+h] = x[j]\n",
    "                j=j-h\n",
    "            x[j+h] = aux\n",
    "        h=h-2"
   ]
  },
  {
   "cell_type": "code",
   "execution_count": 7,
   "metadata": {},
   "outputs": [],
   "source": [
    "def BubbleSortGraph():\n",
    "    for i in range(1,6):\n",
    "        # llenar lista\n",
    "        x = [randint(0, 100) for j in range(i*100)]\n",
    "        start_time = time.time()\n",
    "        # Sort list\n",
    "        bubbleSort(x)\n",
    "        elapsed_time = time.time() - start_time\n",
    "        plt.scatter(i*100, elapsed_time)\n",
    "    \n",
    "    plt.show()"
   ]
  },
  {
   "cell_type": "code",
   "execution_count": 8,
   "metadata": {},
   "outputs": [
    {
     "data": {
      "image/png": "[encoded data removed]",
      "text/plain": [
       "<Figure size 432x288 with 1 Axes>"
      ]
     },
     "metadata": {},
     "output_type": "display_data"
    }
   ],
   "source": [
    "BubbleSortGraph()"
   ]
  },
  {
   "cell_type": "code",
   "execution_count": 9,
   "metadata": {},
   "outputs": [],
   "source": [
    "def SelectionSortGraph():\n",
    "    for i in range(1,6):\n",
    "        # llenar lista\n",
    "        x = [randint(0, 100) for j in range(i*100)]\n",
    "        start_time = time.time()\n",
    "        # Sort list\n",
    "        selectionSort(x)\n",
    "        elapsed_time = time.time() - start_time\n",
    "        plt.scatter(i*100, elapsed_time)\n",
    "    \n",
    "    plt.show()"
   ]
  },
  {
   "cell_type": "code",
   "execution_count": 10,
   "metadata": {},
   "outputs": [
    {
     "data": {
      "image/png": "[encoded data removed]",
      "text/plain": [
       "<Figure size 432x288 with 1 Axes>"
      ]
     },
     "metadata": {},
     "output_type": "display_data"
    }
   ],
   "source": [
    "SelectionSortGraph()"
   ]
  },
  {
   "cell_type": "code",
   "execution_count": 12,
   "metadata": {},
   "outputs": [],
   "source": [
    "def InsertionSortgraph():\n",
    "    for i in range(1,6):\n",
    "        # llenar lista\n",
    "        x = [randint(0, 100) for j in range(i*100)]\n",
    "        start_time = time.time()\n",
    "        # Sort list\n",
    "        insertionSort(x)\n",
    "        elapsed_time = time.time() - start_time\n",
    "        plt.scatter(i*100, elapsed_time)\n",
    "    \n",
    "    plt.show()"
   ]
  },
  {
   "cell_type": "code",
   "execution_count": 13,
   "metadata": {},
   "outputs": [
    {
     "data": {
      "image/png": "[encoded data removed]",
      "text/plain": [
       "<Figure size 432x288 with 1 Axes>"
      ]
     },
     "metadata": {},
     "output_type": "display_data"
    }
   ],
   "source": [
    "InsertionSortgraph()"
   ]
  },
  {
   "cell_type": "code",
   "execution_count": 14,
   "metadata": {},
   "outputs": [],
   "source": [
    "def ShellSortGraph():\n",
    "    for i in range(1,6):\n",
    "        # llenar lista\n",
    "        x = [randint(0, 100) for j in range(i*100)]\n",
    "        start_time = time.time()\n",
    "        # Sort list\n",
    "        # Consider h to be 45\n",
    "        shellSort(x, 45)\n",
    "        elapsed_time = time.time() - start_time\n",
    "        plt.scatter(i*100, elapsed_time)\n",
    "    \n",
    "    plt.show()"
   ]
  },
  {
   "cell_type": "code",
   "execution_count": 15,
   "metadata": {},
   "outputs": [
    {
     "data": {
      "image/png": "[encoded data removed]",
      "text/plain": [
       "<Figure size 432x288 with 1 Axes>"
      ]
     },
     "metadata": {},
     "output_type": "display_data"
    }
   ],
   "source": [
    "ShellSortGraph()"
   ]
  },
  {
   "cell_type": "code",
   "execution_count": null,
   "metadata": {},
   "outputs": [],
   "source": []
  }
 ],
 "metadata": {
  "kernelspec": {
   "display_name": "Python 3",
   "language": "python",
   "name": "python3"
  },
  "language_info": {
   "codemirror_mode": {
    "name": "ipython",
    "version": 3
   },
   "file_extension": ".py",
   "mimetype": "text/x-python",
   "name": "python",
   "nbconvert_exporter": "python",
   "pygments_lexer": "ipython3",
   "version": "3.6.5"
  }
 },
 "nbformat": 4,
 "nbformat_minor": 2
}
